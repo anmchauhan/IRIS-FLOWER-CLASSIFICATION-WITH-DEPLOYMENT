{
 "cells": [
  {
   "cell_type": "code",
   "execution_count": 1,
   "id": "2843945a",
   "metadata": {},
   "outputs": [],
   "source": [
    "\n",
    "from sklearn import datasets\n",
    "\n",
    "from sklearn.model_selection import train_test_split\n",
    "from sklearn.linear_model import LinearRegression,LogisticRegression\n",
    "from sklearn.svm import SVC\n",
    "import pickle\n"
   ]
  },
  {
   "cell_type": "code",
   "execution_count": 2,
   "id": "effd1f51",
   "metadata": {},
   "outputs": [],
   "source": [
    "\n",
    "iris=datasets.load_iris()\n",
    "#print(iris)\n",
    "X=iris.data\n",
    "y=iris.target\n"
   ]
  },
  {
   "cell_type": "code",
   "execution_count": 3,
   "id": "190ce0fd",
   "metadata": {},
   "outputs": [],
   "source": [
    "x_train,x_test,y_train,y_test=train_test_split(X,y)\n",
    "lin_reg=LinearRegression()\n",
    "log_reg=LogisticRegression()\n",
    "svc_model=SVC()"
   ]
  },
  {
   "cell_type": "code",
   "execution_count": 6,
   "id": "b2ebe41a",
   "metadata": {},
   "outputs": [],
   "source": [
    "lin_reg=lin_reg.fit(x_train,y_train)"
   ]
  },
  {
   "cell_type": "code",
   "execution_count": 8,
   "id": "6102c0e8",
   "metadata": {},
   "outputs": [],
   "source": [
    "from sklearn.linear_model import LogisticRegression\n",
    "\n",
    "log_reg = LogisticRegression(max_iter=1000)  # Increase the number of iterations\n",
    "log_reg = log_reg.fit(x_train, y_train)\n"
   ]
  },
  {
   "cell_type": "code",
   "execution_count": 9,
   "id": "fc672144",
   "metadata": {},
   "outputs": [],
   "source": [
    "svc_model=svc_model.fit(x_train,y_train)"
   ]
  },
  {
   "cell_type": "code",
   "execution_count": 10,
   "id": "f4212965",
   "metadata": {},
   "outputs": [],
   "source": [
    "pickle.dump(lin_reg,open('lin_model.pkl','wb'))\n",
    "pickle.dump(log_reg,open('log_model.pkl','wb'))\n",
    "pickle.dump(svc_model,open('svc_model.pkl','wb'))"
   ]
  },
  {
   "cell_type": "code",
   "execution_count": 19,
   "id": "ca4c0c16",
   "metadata": {},
   "outputs": [],
   "source": [
    "import numpy as np\n",
    "input_data = np.array([3.68, 2.85, 2.28, 2])\n",
    "input_data = input_data.reshape(1, -1)\n",
    "lin_reg_prediction = lin_reg.predict(input_data)"
   ]
  },
  {
   "cell_type": "code",
   "execution_count": 20,
   "id": "2a1c4878",
   "metadata": {},
   "outputs": [
    {
     "name": "stdout",
     "output_type": "stream",
     "text": [
      "Linear Regression Prediction: [1.42302482]\n"
     ]
    }
   ],
   "source": [
    "print(\"Linear Regression Prediction:\", lin_reg_prediction)"
   ]
  },
  {
   "cell_type": "code",
   "execution_count": 21,
   "id": "9e986ae4",
   "metadata": {},
   "outputs": [
    {
     "name": "stdout",
     "output_type": "stream",
     "text": [
      "Logistic Regression Prediction: [0]\n"
     ]
    }
   ],
   "source": [
    "log_reg_prediction = log_reg.predict(input_data)\n",
    "print(\"Logistic Regression Prediction:\", log_reg_prediction)"
   ]
  },
  {
   "cell_type": "code",
   "execution_count": null,
   "id": "89a9217d",
   "metadata": {},
   "outputs": [],
   "source": []
  }
 ],
 "metadata": {
  "kernelspec": {
   "display_name": "Python 3 (ipykernel)",
   "language": "python",
   "name": "python3"
  },
  "language_info": {
   "codemirror_mode": {
    "name": "ipython",
    "version": 3
   },
   "file_extension": ".py",
   "mimetype": "text/x-python",
   "name": "python",
   "nbconvert_exporter": "python",
   "pygments_lexer": "ipython3",
   "version": "3.9.13"
  }
 },
 "nbformat": 4,
 "nbformat_minor": 5
}
